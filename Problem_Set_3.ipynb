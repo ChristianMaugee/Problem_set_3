{
 "cells": [
  {
   "cell_type": "markdown",
   "id": "12728020-696e-402a-aecf-be177d2537e5",
   "metadata": {},
   "source": [
    "/bsc4452/share/Class_Files/data/CO-OPS__8729108__wl.csv"
   ]
  },
  {
   "cell_type": "markdown",
   "id": "7e005d6f-2925-403b-ad08-2c45825d7e62",
   "metadata": {},
   "source": [
    "Problem 1 (5 pts):\n",
    "Write a script (or Jupyter Notebook code block) that opens the file, uses a for loop to read through the file line by line and reports the highest water level and the date and time that was observed."
   ]
  },
  {
   "cell_type": "code",
   "execution_count": 8,
   "id": "2c9fea98-9a3d-4b46-a3d2-179e24d78438",
   "metadata": {},
   "outputs": [
    {
     "ename": "FileNotFoundError",
     "evalue": "[Errno 2] No such file or directory: '/bsc4452/share/Class_Files/data/CO-OPS__8729108__wl.csv'",
     "output_type": "error",
     "traceback": [
      "\u001b[0;31m---------------------------------------------------------------------------\u001b[0m",
      "\u001b[0;31mFileNotFoundError\u001b[0m                         Traceback (most recent call last)",
      "\u001b[0;32m/scratch/local/52182868/ipykernel_97706/1839058135.py\u001b[0m in \u001b[0;36m<cell line: 20>\u001b[0;34m()\u001b[0m\n\u001b[1;32m     18\u001b[0m             \u001b[0mprint\u001b[0m\u001b[0;34m(\u001b[0m\u001b[0;34m\"The maximum water level recorded was\"\u001b[0m\u001b[0;34m,\u001b[0m\u001b[0mcolumns\u001b[0m\u001b[0;34m[\u001b[0m\u001b[0;36m1\u001b[0m\u001b[0;34m]\u001b[0m\u001b[0;34m,\u001b[0m\u001b[0;34m\"on\"\u001b[0m\u001b[0;34m,\u001b[0m\u001b[0mcolumns\u001b[0m\u001b[0;34m[\u001b[0m\u001b[0;36m0\u001b[0m\u001b[0;34m]\u001b[0m\u001b[0;34m)\u001b[0m\u001b[0;34m\u001b[0m\u001b[0;34m\u001b[0m\u001b[0m\n\u001b[1;32m     19\u001b[0m \u001b[0;34m\u001b[0m\u001b[0m\n\u001b[0;32m---> 20\u001b[0;31m \u001b[0mproblem_1\u001b[0m\u001b[0;34m(\u001b[0m\u001b[0;34m)\u001b[0m\u001b[0;34m\u001b[0m\u001b[0;34m\u001b[0m\u001b[0m\n\u001b[0m\u001b[1;32m     21\u001b[0m \u001b[0;34m\u001b[0m\u001b[0m\n",
      "\u001b[0;32m/scratch/local/52182868/ipykernel_97706/1839058135.py\u001b[0m in \u001b[0;36mproblem_1\u001b[0;34m()\u001b[0m\n\u001b[1;32m      2\u001b[0m     \u001b[0;32mwhile\u001b[0m \u001b[0;32mTrue\u001b[0m\u001b[0;34m:\u001b[0m\u001b[0;34m\u001b[0m\u001b[0;34m\u001b[0m\u001b[0m\n\u001b[1;32m      3\u001b[0m         \u001b[0mwater_level\u001b[0m \u001b[0;34m=\u001b[0m \u001b[0mlist\u001b[0m\u001b[0;34m(\u001b[0m\u001b[0;34m)\u001b[0m\u001b[0;34m\u001b[0m\u001b[0;34m\u001b[0m\u001b[0m\n\u001b[0;32m----> 4\u001b[0;31m         \u001b[0mfhand\u001b[0m \u001b[0;34m=\u001b[0m \u001b[0mopen\u001b[0m\u001b[0;34m(\u001b[0m\u001b[0;34m\"/bsc4452/share/Class_Files/data/CO-OPS__8729108__wl.csv\"\u001b[0m\u001b[0;34m)\u001b[0m\u001b[0;34m\u001b[0m\u001b[0;34m\u001b[0m\u001b[0m\n\u001b[0m\u001b[1;32m      5\u001b[0m         \u001b[0;32mfor\u001b[0m \u001b[0mline\u001b[0m \u001b[0;32min\u001b[0m \u001b[0mfhand\u001b[0m\u001b[0;34m:\u001b[0m\u001b[0;34m\u001b[0m\u001b[0;34m\u001b[0m\u001b[0m\n\u001b[1;32m      6\u001b[0m             \u001b[0mline\u001b[0m \u001b[0;34m=\u001b[0m \u001b[0mline\u001b[0m\u001b[0;34m.\u001b[0m\u001b[0mrstrip\u001b[0m\u001b[0;34m(\u001b[0m\u001b[0;34m)\u001b[0m\u001b[0;34m\u001b[0m\u001b[0;34m\u001b[0m\u001b[0m\n",
      "\u001b[0;31mFileNotFoundError\u001b[0m: [Errno 2] No such file or directory: '/bsc4452/share/Class_Files/data/CO-OPS__8729108__wl.csv'"
     ]
    }
   ],
   "source": [
    "def problem_1():\n",
    "    while True:\n",
    "        water_lvls = list()\n",
    "        fhand = open(\"ProblemSet3File.csv\")\n",
    "        for line in fhand:\n",
    "            line = line.rstrip()\n",
    "            columns = line.split(sep = ',')\n",
    "            try:\n",
    "                #make water level a number\n",
    "                water_lvl = float(columns[1])\n",
    "                #add it to the list\n",
    "                water_lvls.append(water_lvl)\n",
    "            except:\n",
    "                continue\n",
    "        #find max level\n",
    "        max_water_level = max(water_lvls)\n",
    "        break    \n",
    "   # print(max_water_level)\n",
    "   # print(len(water_lvls))\n",
    "    #make max water level a string, not a float\n",
    "    find = str(max_water_level)\n",
    "    fhand = open(\"ProblemSet3File.csv\")\n",
    "    for line in fhand:\n",
    "        line = line.rstrip()\n",
    "        columns = line.split(sep = ',')\n",
    "        if line.find(find) == -1: continue\n",
    "             #print the water level and  date and time of max level\n",
    "        print(\"The maximum water level recorded was\",columns[1],\"on\",columns[0])\n",
    "        \n",
    "            \n",
    "\n",
    "problem_1()\n",
    "            "
   ]
  },
  {
   "cell_type": "markdown",
   "id": "7b839055-df3c-4395-8084-8c679c8ba4c9",
   "metadata": {},
   "source": [
    "Problem 2 (5 pts):\n",
    "Either in a new script or modifying the above script, calculate the lowest, highest and average water level observed during the time period. As above, print the date and time for the lowest and highest readings. "
   ]
  },
  {
   "cell_type": "code",
   "execution_count": 9,
   "id": "09886086-3534-474f-ad18-50d14b6ea6f5",
   "metadata": {},
   "outputs": [
    {
     "ename": "FileNotFoundError",
     "evalue": "[Errno 2] No such file or directory: '/bsc4452/share/Class_Files/data/CO-OPS__8729108__wl.csv'",
     "output_type": "error",
     "traceback": [
      "\u001b[0;31m---------------------------------------------------------------------------\u001b[0m",
      "\u001b[0;31mFileNotFoundError\u001b[0m                         Traceback (most recent call last)",
      "\u001b[0;32m/scratch/local/52182868/ipykernel_97706/3259480841.py\u001b[0m in \u001b[0;36m<cell line: 32>\u001b[0;34m()\u001b[0m\n\u001b[1;32m     30\u001b[0m     \u001b[0mprint\u001b[0m\u001b[0;34m(\u001b[0m\u001b[0;34m\"The average water leverl was\"\u001b[0m\u001b[0;34m,\u001b[0m\u001b[0maverage\u001b[0m\u001b[0;34m)\u001b[0m\u001b[0;34m\u001b[0m\u001b[0;34m\u001b[0m\u001b[0m\n\u001b[1;32m     31\u001b[0m \u001b[0;34m\u001b[0m\u001b[0m\n\u001b[0;32m---> 32\u001b[0;31m \u001b[0mproblem_2\u001b[0m\u001b[0;34m(\u001b[0m\u001b[0;34m)\u001b[0m\u001b[0;34m\u001b[0m\u001b[0;34m\u001b[0m\u001b[0m\n\u001b[0m",
      "\u001b[0;32m/scratch/local/52182868/ipykernel_97706/3259480841.py\u001b[0m in \u001b[0;36mproblem_2\u001b[0;34m()\u001b[0m\n\u001b[1;32m      4\u001b[0m         \u001b[0mcount\u001b[0m \u001b[0;34m=\u001b[0m \u001b[0;36m0\u001b[0m\u001b[0;34m\u001b[0m\u001b[0;34m\u001b[0m\u001b[0m\n\u001b[1;32m      5\u001b[0m         \u001b[0mtotal\u001b[0m \u001b[0;34m=\u001b[0m \u001b[0;36m0\u001b[0m\u001b[0;34m\u001b[0m\u001b[0;34m\u001b[0m\u001b[0m\n\u001b[0;32m----> 6\u001b[0;31m         \u001b[0mfhand\u001b[0m \u001b[0;34m=\u001b[0m \u001b[0mopen\u001b[0m\u001b[0;34m(\u001b[0m\u001b[0;34m\"/bsc4452/share/Class_Files/data/CO-OPS__8729108__wl.csv\"\u001b[0m\u001b[0;34m)\u001b[0m\u001b[0;34m\u001b[0m\u001b[0;34m\u001b[0m\u001b[0m\n\u001b[0m\u001b[1;32m      7\u001b[0m         \u001b[0;32mfor\u001b[0m \u001b[0mline\u001b[0m \u001b[0;32min\u001b[0m \u001b[0mfhand\u001b[0m\u001b[0;34m:\u001b[0m\u001b[0;34m\u001b[0m\u001b[0;34m\u001b[0m\u001b[0m\n\u001b[1;32m      8\u001b[0m             \u001b[0mline\u001b[0m \u001b[0;34m=\u001b[0m \u001b[0mline\u001b[0m\u001b[0;34m.\u001b[0m\u001b[0mrstrip\u001b[0m\u001b[0;34m(\u001b[0m\u001b[0;34m)\u001b[0m\u001b[0;34m\u001b[0m\u001b[0;34m\u001b[0m\u001b[0m\n",
      "\u001b[0;31mFileNotFoundError\u001b[0m: [Errno 2] No such file or directory: '/bsc4452/share/Class_Files/data/CO-OPS__8729108__wl.csv'"
     ]
    }
   ],
   "source": [
    "def problem_2():\n",
    "    while True:\n",
    "        water_lvls = list()\n",
    "        count = 0\n",
    "        total = 0\n",
    "        fhand = open(\"ProblemSet3File.csv\")\n",
    "        for line in fhand:\n",
    "            line = line.rstrip()\n",
    "            columns = line.split(sep = ',')\n",
    "            try:\n",
    "                #make water level a number\n",
    "                water_lvl = float(columns[1])\n",
    "                #add the level to the list\n",
    "                water_lvls.append(water_lvl)\n",
    "                #count each time its recorded\n",
    "                count = count + 1\n",
    "                #score running total\n",
    "                total = total + water_lvl\n",
    "            except:\n",
    "                continue\n",
    "        #find max water level\n",
    "        max_water_level = max(water_lvls)\n",
    "        #find min water level\n",
    "        min_water_level = min(water_lvls)\n",
    "        #calculate average water level\n",
    "        average = total/count\n",
    "        break\n",
    "    #make searches into strings\n",
    "    find_max = str(max_water_level)\n",
    "    find_min = str(min_water_level)\n",
    "    fhand = open(\"ProblemSet3File.csv\")\n",
    "    for line in fhand:\n",
    "        line = line.rstrip()\n",
    "        columns = line.split(sep = ',')\n",
    "        if line.find(find_max) == -1: continue\n",
    "             #print the water level and  date and time of max level\n",
    "        print(\"The maximum water level recorded was\",columns[1],\"on\",columns[0])\n",
    "    fhand = open(\"ProblemSet3File.csv\")\n",
    "    for line in fhand:\n",
    "        line = line.rstrip()\n",
    "        columns = line.split(sep = ',')\n",
    "        if line.find(find_min) == -1: continue\n",
    "             #print the water level and  date and time of max level\n",
    "        print(\"The minimum water level recorded was\",columns[1],\"on\",columns[0])\n",
    "    print(\"The average water level recorded was\",average)\n",
    "\n",
    "problem_2()"
   ]
  },
  {
   "cell_type": "markdown",
   "id": "5bb7a28d-f05a-45a0-8849-2e5671e0007a",
   "metadata": {},
   "source": [
    "Problem 3 (5 pts):\n",
    "Write a script (or Jupyter Notebook) that calculates the fastest rise in water level per 6-minute period between measurements (for this assignment, assume that each line of the dataset is a 6-minute interval) and reports the date and time that was observed and the change in water level from the previous recording.  "
   ]
  },
  {
   "cell_type": "code",
   "execution_count": 6,
   "id": "b983670b-ca63-4b60-880e-3fcb6cc3ac41",
   "metadata": {},
   "outputs": [
    {
     "ename": "SyntaxError",
     "evalue": "cannot assign to subscript here. Maybe you meant '==' instead of '='? (3241390914.py, line 23)",
     "output_type": "error",
     "traceback": [
      "\u001b[0;36m  File \u001b[0;32m\"/scratch/local/52182868/ipykernel_97706/3241390914.py\"\u001b[0;36m, line \u001b[0;32m23\u001b[0m\n\u001b[0;31m    if columns[1] = max_change:\u001b[0m\n\u001b[0m       ^\u001b[0m\n\u001b[0;31mSyntaxError\u001b[0m\u001b[0;31m:\u001b[0m cannot assign to subscript here. Maybe you meant '==' instead of '='?\n"
     ]
    }
   ],
   "source": [
    "def problem_3():\n",
    "    while True:\n",
    "        water_level = 0\n",
    "        #set to first value recorded\n",
    "        water_level_2 = 2.421\n",
    "        changes = list()\n",
    "        fhand = open('ProblemSet3File.csv')\n",
    "        for line in fhand:\n",
    "            line = line.rstrip()\n",
    "            columns = line.split(sep = ',')\n",
    "            try:\n",
    "                #make water level into a number\n",
    "                water_level = float(columns[1]) \n",
    "                #calculate the absolute change in levels\n",
    "                change = abs(water_level - water_level_2)\n",
    "                #make old water level into new water level\n",
    "                water_level_2 = water_level\n",
    "                #add that to the list\n",
    "                changes.append(change)\n",
    "            except:\n",
    "                continue\n",
    "        max_change = max(changes)\n",
    "        break\n",
    "    print(\"The max change in water level was\", max_change)\n",
    "    water_level = 0\n",
    "    #set to first value recorded\n",
    "    water_level_2 = 2.421\n",
    "    changes = list()\n",
    "    remember = \"what\"\n",
    "    fhand = open('ProblemSet3File.csv')\n",
    "    for line in fhand:\n",
    "        line = line.rstrip()\n",
    "        columns = line.split(sep = ',')\n",
    "        try:\n",
    "            #remember line \n",
    "            remember = columns[0]\n",
    "            #make water level into a number\n",
    "            water_level = float(columns[1]) \n",
    "            #calculate the absolute change in levels\n",
    "            change = abs(water_level - water_level_2)\n",
    "            if change == max_change:\n",
    "                print(\"between\\n\",remember,\"\\nand\\n\",remember_2)\n",
    "                continue\n",
    "            #make old water level into new water level\n",
    "            water_level_2 = water_level\n",
    "            #remember previous line \n",
    "            remember_2 = remember \n",
    "        except:\n",
    "            continue\n",
    "  \n",
    "problem_3()"
   ]
  },
  {
   "cell_type": "markdown",
   "id": "4c853fed-466b-4ce9-9b9a-f2e383bacbb7",
   "metadata": {},
   "source": [
    "Problem 4 (5 pts):\n",
    "Imagine that the file is providing live readings of the water level. Write a script (or Jupyter Notebook) to print a line of text with a warning if any of these events occur:\n",
    "\n",
    "The water level increases more than 0.25 since the previous recording.\n",
    "The water level is over 5.0.\n",
    "No reading is received at a time point."
   ]
  },
  {
   "cell_type": "code",
   "execution_count": 4,
   "id": "cbe9d07e-580a-494d-932d-b22ca81fc5a1",
   "metadata": {},
   "outputs": [
    {
     "ename": "TypeError",
     "evalue": "unsupported operand type(s) for +: 'NoneType' and 'int'",
     "output_type": "error",
     "traceback": [
      "\u001b[0;31m---------------------------------------------------------------------------\u001b[0m",
      "\u001b[0;31mTypeError\u001b[0m                                 Traceback (most recent call last)",
      "\u001b[0;32m/scratch/local/52182868/ipykernel_97706/1869036470.py\u001b[0m in \u001b[0;36m<cell line: 2>\u001b[0;34m()\u001b[0m\n\u001b[1;32m      1\u001b[0m \u001b[0mx\u001b[0m \u001b[0;34m=\u001b[0m \u001b[0;32mNone\u001b[0m\u001b[0;34m\u001b[0m\u001b[0;34m\u001b[0m\u001b[0m\n\u001b[0;32m----> 2\u001b[0;31m \u001b[0mprint\u001b[0m\u001b[0;34m(\u001b[0m\u001b[0mx\u001b[0m\u001b[0;34m+\u001b[0m\u001b[0;36m1\u001b[0m\u001b[0;34m)\u001b[0m\u001b[0;34m\u001b[0m\u001b[0;34m\u001b[0m\u001b[0m\n\u001b[0m\u001b[1;32m      3\u001b[0m \u001b[0mx\u001b[0m \u001b[0;34m=\u001b[0m \u001b[0;36m2\u001b[0m\u001b[0;34m\u001b[0m\u001b[0;34m\u001b[0m\u001b[0m\n\u001b[1;32m      4\u001b[0m \u001b[0mprint\u001b[0m\u001b[0;34m(\u001b[0m\u001b[0mx\u001b[0m\u001b[0;34m+\u001b[0m\u001b[0;36m1\u001b[0m\u001b[0;34m)\u001b[0m\u001b[0;34m\u001b[0m\u001b[0;34m\u001b[0m\u001b[0m\n",
      "\u001b[0;31mTypeError\u001b[0m: unsupported operand type(s) for +: 'NoneType' and 'int'"
     ]
    }
   ],
   "source": [
    "def problem_4():\n",
    "    while True:\n",
    "        water_level = 0\n",
    "        water_level_2 = 0\n",
    "        changes = list()\n",
    "        fhand = open(\"/bsc4452/share/Class_Files/data/CO-OPS__8729108__wl.csv\")\n",
    "        for line in fhand:\n",
    "            line = line.rstrip()\n",
    "            columns = line.split(sep = ',')\n",
    "            try:\n",
    "                #make water level into a number\n",
    "                water_level = float(columns[1]) \n",
    "                #calculate the absolute change in levels\n",
    "                change = abs(water_level - water_level_2)\n",
    "                #add that to the list\n",
    "                changes.append(change)\n",
    "                if change > 0.25:\n",
    "                    print(\"WARNING: changed in level over 0.25 detected\")\n",
    "                    continue\n",
    "                elif water_level > 5.0:\n",
    "                    print(\"WARNING: water level over 5.0\")\n",
    "                    continue\n",
    "            except:\n",
    "                print(\"WARNING: no reading recieved or invalid reading\")\n",
    "                continue\n",
    "\n",
    "problem_4()"
   ]
  }
 ],
 "metadata": {
  "kernelspec": {
   "display_name": "UFRC Python-3.10",
   "language": "python",
   "name": "python3-3.10-ufrc"
  },
  "language_info": {
   "codemirror_mode": {
    "name": "ipython",
    "version": 3
   },
   "file_extension": ".py",
   "mimetype": "text/x-python",
   "name": "python",
   "nbconvert_exporter": "python",
   "pygments_lexer": "ipython3",
   "version": "3.10.5"
  }
 },
 "nbformat": 4,
 "nbformat_minor": 5
}
