{
 "cells": [
  {
   "cell_type": "markdown",
   "id": "12728020-696e-402a-aecf-be177d2537e5",
   "metadata": {},
   "source": [
    "/bsc4452/share/Class_Files/data/CO-OPS__8729108__wl.csv"
   ]
  },
  {
   "cell_type": "markdown",
   "id": "7e005d6f-2925-403b-ad08-2c45825d7e62",
   "metadata": {},
   "source": [
    "Problem 1 (5 pts):\n",
    "Write a script (or Jupyter Notebook code block) that opens the file, uses a for loop to read through the file line by line and reports the highest water level and the date and time that was observed."
   ]
  },
  {
   "cell_type": "code",
   "execution_count": 3,
   "id": "f479467c-1c79-4f77-9e10-348473edca8d",
   "metadata": {},
   "outputs": [],
   "source": [
    "def file_reader():\n",
    "    water_level = list()\n",
    "    fhand = open(\"/bsc4452/share/Class_Files/data/CO-OPS__8729108__wl.csv\")\n",
    "    for line in fhand:\n",
    "        line = line.rstrip()\n",
    "        columns = line.split(sep = ',')\n",
    "        water_level.append(columns[1])\n",
    "        \n",
    "            "
   ]
  },
  {
   "cell_type": "raw",
   "id": "65d21a77-7073-4aa7-92a7-4bb7fd930759",
   "metadata": {},
   "source": [
    "Problem 2 (5 pts):\n",
    "Either in a new script or modifying the above script, calculate the lowest, highest and average water level observed during the time period. As above, print the date and time for the lowest and highest readings. "
   ]
  },
  {
   "cell_type": "code",
   "execution_count": null,
   "id": "09886086-3534-474f-ad18-50d14b6ea6f5",
   "metadata": {},
   "outputs": [],
   "source": []
  },
  {
   "cell_type": "raw",
   "id": "8eba4d78-23f6-4809-a8b8-2be873e6ea0d",
   "metadata": {},
   "source": [
    "Problem 3 (5 pts):\n",
    "Write a script (or Jupyter Notebook) that calculates the fastest rise in water level per 6-minute period between measurements (for this assignment, assume that each line of the dataset is a 6-minute interval) and reports the date and time that was observed and the change in water level from the previous recording. "
   ]
  },
  {
   "cell_type": "code",
   "execution_count": null,
   "id": "b983670b-ca63-4b60-880e-3fcb6cc3ac41",
   "metadata": {},
   "outputs": [],
   "source": []
  },
  {
   "cell_type": "raw",
   "id": "4e7982cd-2b14-43a7-9c9b-e88df9d33240",
   "metadata": {},
   "source": [
    "Problem 4 (5 pts):\n",
    "Imagine that the file is providing live readings of the water level. Write a script (or Jupyter Notebook) to print a line of text with a warning if any of these events occur:\n",
    "\n",
    "The water level increases more than 0.25 since the previous recording.\n",
    "The water level is over 5.0.\n",
    "No reading is received at a time point."
   ]
  },
  {
   "cell_type": "code",
   "execution_count": null,
   "id": "cbe9d07e-580a-494d-932d-b22ca81fc5a1",
   "metadata": {},
   "outputs": [],
   "source": []
  }
 ],
 "metadata": {
  "kernelspec": {
   "display_name": "UFRC Python-3.10",
   "language": "python",
   "name": "python3-3.10-ufrc"
  },
  "language_info": {
   "codemirror_mode": {
    "name": "ipython",
    "version": 3
   },
   "file_extension": ".py",
   "mimetype": "text/x-python",
   "name": "python",
   "nbconvert_exporter": "python",
   "pygments_lexer": "ipython3",
   "version": "3.10.5"
  }
 },
 "nbformat": 4,
 "nbformat_minor": 5
}
